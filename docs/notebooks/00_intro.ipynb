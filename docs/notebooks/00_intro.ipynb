{
 "cells": [
  {
   "cell_type": "markdown",
   "id": "aad756f2-20cb-43c0-97f4-02d6ac7dc2c5",
   "metadata": {},
   "source": [
    "# Intro\n",
    "\n",
    "## Functions\n",
    "\n",
    "The bulk of this tool's source code is currently contained in two modules:\n",
    "[prefix_graph.py](src/prefix_graph.py) and [prefix_tree.py](src/prefix_tree.py).\n",
    "\n",
    "Some examples of how to use the methods within these two modules can be found\n",
    "in [unit_tests/tree_test.py](unit_tests/tree_test.py).\n",
    "\n",
    "The guide below will show how to generate a Sklansky / Brent-Kung hybrid,\n",
    "modify it slightly towards Kogge-Stone, flatten its worst path, and finally\n",
    "print out a diagram and HDL representation. This guide seeks to showcase\n",
    "some of the flexibility that this library offers.\n",
    "\n",
    "Begin by opening a new Python shell or creating a new file. It is simplest to\n",
    "perform this demo within a shell:"
   ]
  },
  {
   "cell_type": "code",
   "execution_count": null,
   "id": "87b54856-2337-4c6f-8e58-5649722c069f",
   "metadata": {},
   "outputs": [],
   "source": [
    "from pptrees.prefix_graph import prefix_node as node\n",
    "from pptrees.adder_tree import adder_tree as tree\n",
    "from pptrees.util import lg"
   ]
  },
  {
   "cell_type": "markdown",
   "id": "b86ceec4-2aff-4a54-b8ec-9e905c9ce170",
   "metadata": {},
   "source": [
    "Next, initialize a prefix tree of width 32. For brevity, we will initialize\n",
    "directly to the Sklansky structure:"
   ]
  },
  {
   "cell_type": "code",
   "execution_count": null,
   "id": "4fd634b1-97c0-47f3-9a4c-96f63878fa2f",
   "metadata": {},
   "outputs": [],
   "source": [
    "g = tree(32,\"sklansky\")"
   ]
  },
  {
   "cell_type": "markdown",
   "id": "d65bf025-5919-4d90-b51e-2526f96a360b",
   "metadata": {},
   "source": [
    "If so desired, you may at this point print out a diagram of the tree to follow\n",
    "alongside its progress. To view the diagram, simply open the specified .png\n",
    "file in a new window."
   ]
  },
  {
   "cell_type": "code",
   "execution_count": null,
   "id": "5a798d4e-3375-4394-97e4-1d5d239a7327",
   "metadata": {},
   "outputs": [],
   "source": [
    "g.png('1.png')"
   ]
  },
  {
   "cell_type": "markdown",
   "id": "391a4ec3-5538-4cee-8d83-6aca258b1cba",
   "metadata": {},
   "source": [
    "<img src=\"https://raw.githubusercontent.com/tdene/synth_opt_adders/main/demo/1.png?raw=true\" width=\"1200\"/>\n"
   ]
  },
  {
   "cell_type": "markdown",
   "id": "6246e3ec-4142-48b1-b906-5a880ebb10e3",
   "metadata": {},
   "source": [
    "Next, we will turn this Sklansky adder into a Sklansky / Brent-Kung hybrid.\n",
    "This is done by taking \"Harris steps\" on the adder's less-significant half. As\n",
    "an example, take one Harris step in the FL direction and view the output:\n"
   ]
  },
  {
   "cell_type": "code",
   "execution_count": null,
   "id": "cac9c150-932c-4f03-87aa-6b7a352a4b0c",
   "metadata": {},
   "outputs": [],
   "source": [
    "g.harris_step('FL',1,top_bit=32//2)\n",
    "g.png('2.png')"
   ]
  },
  {
   "cell_type": "markdown",
   "id": "9266a275-60fc-4458-ad28-00e64a5ebc26",
   "metadata": {},
   "source": [
    "<img src=\"https://raw.githubusercontent.com/tdene/synth_opt_adders/main/demo/2.png?raw=true\" width=\"1200\"/>\n",
    "\n",
    "You will notice that the bottom half of the prefix structure is now a\n",
    "Ladner-Fischer structure with maximum fan-out of 4. By taking several more\n",
    "Harris steps, a Brent-Kung structure can be reached. Note that a \"Harris step\"\n",
    "is defined in the source code as well in the author's publications, and is\n",
    "simply a loop of its respective transforms.\n"
   ]
  },
  {
   "cell_type": "code",
   "execution_count": null,
   "id": "b7f6da9d-81e6-4d95-af98-65d279af2a0a",
   "metadata": {},
   "outputs": [],
   "source": [
    "g.harris_step('FL',3,top_bit=32//2)\n",
    "g.harris_step('FL',1,top_bit=32//4)\n",
    "g.harris_step('FL',1,top_bit=32//8)\n",
    "g.png('3.png')"
   ]
  },
  {
   "cell_type": "markdown",
   "id": "72ef1eec-6615-4078-bf67-c7454b22ea15",
   "metadata": {},
   "source": [
    "\n",
    "<img src=\"https://raw.githubusercontent.com/tdene/synth_opt_adders/main/demo/3.png?raw=true\" width=\"1200\"/>\n",
    "\n",
    "Looking at \"3.png\", a hybrid Sklansky / Brent-Kung hybrid is easily\n",
    "recognizable. Let us now perform some point-targeted transforms. For example,\n",
    "we may choose to decouple some of the fanout:\n"
   ]
  },
  {
   "cell_type": "code",
   "execution_count": null,
   "id": "6953b082-a93c-4f5f-b369-f336bfba9ec2",
   "metadata": {},
   "outputs": [],
   "source": [
    "g.FL(31,5)\n",
    "g.FL(30,5)\n",
    "g.FL(29,5)\n",
    "g.FL(28,5)\n",
    "\n",
    "g.FL(19,5)\n",
    "g.FL(18,5)\n",
    "g.FL(17,5)\n",
    "g.FL(16,5)\n",
    "g.png('4.png')\n"
   ]
  },
  {
   "cell_type": "markdown",
   "id": "1906205a-2d2e-4bc4-8591-710e8d29b461",
   "metadata": {},
   "source": [
    "<img src=\"https://raw.githubusercontent.com/tdene/synth_opt_adders/main/demo/4.png?raw=true\" width=\"1200\"/>\n",
    "\n",
    "We may also choose to turn some of the fan-out for wire-tracks. Note that in\n",
    "the current version of this code-base, this operation runs in O(n^2) time.\n",
    "Future optimizations will reduce this run-time.\n"
   ]
  },
  {
   "cell_type": "code",
   "execution_count": null,
   "id": "663e44d6-3a44-4f92-8952-4231f8808dcd",
   "metadata": {},
   "outputs": [],
   "source": [
    "g.FT(16,6)\n",
    "g.FT(17,6)\n",
    "g.png('5.png')\n",
    "g.FT(13,6)\n",
    "g.png('6.png')"
   ]
  },
  {
   "cell_type": "markdown",
   "id": "cf771b9f-ce32-4331-962c-7dbd8d066156",
   "metadata": {},
   "source": [
    "<img src=\"https://raw.githubusercontent.com/tdene/synth_opt_adders/main/demo/6.png?raw=true\" width=\"1200\"/>\n",
    "\n",
    "At any point in time, we may query the data structure in a multitude of ways.\n",
    "The next example queries what node is present at the coordinates (13,6), its\n",
    "diagonal predecessor, and its vertical black node predecessor:\n",
    "    \n"
   ]
  },
  {
   "cell_type": "code",
   "execution_count": null,
   "id": "677deee8-d414-4bdd-8f7e-147798846775",
   "metadata": {},
   "outputs": [],
   "source": [
    "print(g[13,6])\n",
    "print(g.pre(g[13,6]))\n",
    "print(g.r_top(g[13,6]))\n"
   ]
  },
  {
   "cell_type": "markdown",
   "id": "f6e55d9b-66e6-493a-ae45-bc5cb0442f59",
   "metadata": {},
   "source": [
    "In its current form, the netlist would be written using hierarchical modules.\n",
    "The HDL can also be output flat, or partially flat. This next example will\n",
    "choose the estimated three worst paths of the design and flatten only those:\n"
   ]
  },
  {
   "cell_type": "code",
   "execution_count": null,
   "id": "f52c689e-5563-4647-bfce-897d8d63f6df",
   "metadata": {},
   "outputs": [],
   "source": [
    "g.recalc_weights()\n",
    "worst_path_1 = g.longest_path()\n",
    "g.add_block(*worst_path_1)\n",
    "worst_path_2 = g.longest_path()\n",
    "g.add_block(*worst_path_2)\n",
    "worst_path_3 = g.longest_path()\n",
    "g.add_block(*worst_path_3)\n",
    "g.png('7.png')\n",
    "g.hdl('sample.v')"
   ]
  },
  {
   "cell_type": "markdown",
   "id": "be303827-ed6d-4d40-941f-fc615680f094",
   "metadata": {},
   "source": [
    "<img src=\"https://raw.githubusercontent.com/tdene/synth_opt_adders/main/demo/7.png?raw=true\" width=\"1200\"/>\n",
    "\n",
    "The final output image, \"7.png\", contains a visualization of the flattening\n",
    "performed by the last step. The file \"sample.v\" contains HDL for the design\n",
    "written in the Verilog standard.\n",
    "\n",
    "Numerous possibilities exist for the use of this library. Future efforts will\n",
    "include the creation of a fully automatic constraint-driven adder synthesis\n",
    "tool, as well as the implementation of sparsity and multi-level Ling\n",
    "optimization."
   ]
  },
  {
   "cell_type": "code",
   "execution_count": null,
   "id": "71fab2a7-a1b9-41f1-9e39-b5ff32fc580d",
   "metadata": {},
   "outputs": [],
   "source": []
  }
 ],
 "metadata": {
  "kernelspec": {
   "display_name": "Python 3 (ipykernel)",
   "language": "python",
   "name": "python3"
  },
  "language_info": {
   "codemirror_mode": {
    "name": "ipython",
    "version": 3
   },
   "file_extension": ".py",
   "mimetype": "text/x-python",
   "name": "python",
   "nbconvert_exporter": "python",
   "pygments_lexer": "ipython3",
   "version": "3.9.10"
  }
 },
 "nbformat": 4,
 "nbformat_minor": 5
}
